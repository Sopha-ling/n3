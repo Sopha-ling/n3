{
 "cells": [
  {
   "cell_type": "markdown",
   "id": "564c7f1c",
   "metadata": {},
   "source": [
    "Задача 1"
   ]
  },
  {
   "cell_type": "markdown",
   "id": "796129a9",
   "metadata": {},
   "source": [
    "Установить gym (python3 - https://github.com/openai/gym, для тех, кто делает на java - https://github.com/deeplearning4j/gym-java-client), реализовать среду из предыдущего семинара в gym, агенты - тигр и кролик. Реализовать задачу из семинара 2 в openai gym. "
   ]
  },
  {
   "cell_type": "markdown",
   "id": "ec30323d",
   "metadata": {},
   "source": [
    "Задача 2"
   ]
  },
  {
   "cell_type": "markdown",
   "id": "8652bdea",
   "metadata": {},
   "source": [
    "Реализовать поведение \"поиска\" добычи тигром - тигр исследует карту и выслеживает добычу (оказывается в 3 клетках от нее - добыча выслежена). Далее он следует к добыче и пытается ее поймать (как на 1 семинаре). Если кролик уворачивается от тигра, то он отбегает на 5 клеток в любом направлении. Каждый раз, после неудачной ловли, тигр усовершенствует свой уровень охотника на 10 %. Для обеспечения поиска добычи использовать DQN."
   ]
  },
  {
   "cell_type": "code",
   "execution_count": null,
   "id": "91f70b18",
   "metadata": {},
   "outputs": [],
   "source": []
  }
 ],
 "metadata": {
  "kernelspec": {
   "display_name": "Python 3",
   "language": "python",
   "name": "python3"
  },
  "language_info": {
   "codemirror_mode": {
    "name": "ipython",
    "version": 3
   },
   "file_extension": ".py",
   "mimetype": "text/x-python",
   "name": "python",
   "nbconvert_exporter": "python",
   "pygments_lexer": "ipython3",
   "version": "3.8.8"
  }
 },
 "nbformat": 4,
 "nbformat_minor": 5
}
